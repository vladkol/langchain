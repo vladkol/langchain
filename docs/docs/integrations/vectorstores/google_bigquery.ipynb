{
 "cells": [
  {
   "cell_type": "markdown",
   "id": "655b8f55-2089-4733-8b09-35dea9580695",
   "metadata": {},
   "source": [
    "# Google Cloud BigQuery Vector Store\n",
    "\n",
    "This notebook shows how to use functionality related to the `Google Cloud BigQuery` vector database.\n",
    "\n",
    "> [BigQuery ML.DISTANCE function](https://cloud.google.com/bigquery/docs/reference/standard-sql/bigqueryml-syntax-distance) computes the distance between two vectors.\n",
    "> LangChain implementation in `BigQueryVectorStore` uses Cosine distance (`COSINE` as third parameter of `ML.DISTANCE`)."
   ]
  },
  {
   "cell_type": "markdown",
   "id": "a9971578-0ae9-4809-9e80-e5f9d3dcc98a",
   "metadata": {},
   "source": [
    "## Create VectorStore and add texts with optional metadata"
   ]
  },
  {
   "cell_type": "code",
   "execution_count": null,
   "id": "f7c96da4-8d97-4f69-8c13-d2fcafc03b05",
   "metadata": {},
   "outputs": [],
   "source": [
    "from langchain.vectorstores import BigQueryVectorStore"
   ]
  },
  {
   "cell_type": "code",
   "execution_count": null,
   "id": "58b70880-edd9-46f3-b769-f26c2bcc8395",
   "metadata": {},
   "outputs": [],
   "source": [
    "texts = [\"apple\", \"ice cream\", \"Saturn\", \"peperoni\", \"spaghetti\"]\n",
    "metadatas = [\n",
    "    {\n",
    "        \"kind\": \"fruit\",\n",
    "    },\n",
    "    {\n",
    "        \"kind\": \"treat\",\n",
    "    },\n",
    "    {\n",
    "        \"kind\": \"planet\",\n",
    "    },\n",
    "    {\n",
    "        \"kind\": \"pizza\",\n",
    "    },\n",
    "    {\n",
    "        \"kind\": \"pasta\",\n",
    "    },\n",
    "]\n",
    "\n",
    "vector_store = BigQueryVectorStore(\n",
    "    project_id=\"<your_project>\", location=\"us\", dataset_name=\"<your_dataset>\"\n",
    ")\n",
    "\n",
    "vector_store.add_texts(texts=texts, metadatas=metadatas)"
   ]
  },
  {
   "cell_type": "markdown",
   "id": "458fc85c-74c5-4f9e-badb-6de950f1dd54",
   "metadata": {},
   "source": [
    "## Search for documents"
   ]
  },
  {
   "cell_type": "code",
   "execution_count": null,
   "id": "f56bd74f-9cf0-4de9-93ee-b85897daf46b",
   "metadata": {},
   "outputs": [],
   "source": [
    "doc = vector_store.similarity_search(\"Italian food\", k=2)\n",
    "print(doc)"
   ]
  },
  {
   "cell_type": "markdown",
   "id": "b40a9785-c4fb-4d71-af99-376a5a60f239",
   "metadata": {},
   "source": [
    "## Search for documents with metadata filter"
   ]
  },
  {
   "cell_type": "code",
   "execution_count": null,
   "id": "b41b301e-1a0b-4f23-a6da-326beaaeca10",
   "metadata": {},
   "outputs": [],
   "source": [
    "doc = vector_store.similarity_search(\n",
    "    \"Italian food\", k=4, metadata_filter=\"JSON_VALUE(metadata,'$.kind') = 'pizza'\"\n",
    ")\n",
    "print(doc)"
   ]
  }
 ],
 "metadata": {
  "environment": {
   "kernel": "python3",
   "name": "common-cpu.m107",
   "type": "gcloud",
   "uri": "gcr.io/deeplearning-platform-release/base-cpu:m107"
  },
  "kernelspec": {
   "display_name": "Python 3 (ipykernel)",
   "language": "python",
   "name": "python3"
  },
  "language_info": {
   "codemirror_mode": {
    "name": "ipython",
    "version": 3
   },
   "file_extension": ".py",
   "mimetype": "text/x-python",
   "name": "python",
   "nbconvert_exporter": "python",
   "pygments_lexer": "ipython3",
   "version": "3.10.2"
  }
 },
 "nbformat": 4,
 "nbformat_minor": 5
}
